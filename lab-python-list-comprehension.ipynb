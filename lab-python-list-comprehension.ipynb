{
 "cells": [
  {
   "cell_type": "markdown",
   "id": "25d7736c-ba17-4aff-b6bb-66eba20fbf4e",
   "metadata": {},
   "source": [
    "# Lab | List, Dict and Set Comprehension"
   ]
  },
  {
   "cell_type": "markdown",
   "id": "7dd3cbde-675a-4b81-92c3-f728846dbe06",
   "metadata": {},
   "source": [
    "## Exercise: Managing Customer Orders Optimized with Comprehension"
   ]
  },
  {
   "cell_type": "markdown",
   "id": "5d500160-2fb7-4777-b5e4-09d45ebaf328",
   "metadata": {},
   "source": [
    "In the previous exercise, you developed a program to manage customer orders and inventory. Now, let's take it a step further and incorporate comprehension into your code.\n",
    "\n",
    "Follow the steps below to complete the exercise:\n",
    "\n",
    "1. Review your code from the previous exercise and identify areas where you can apply comprehension to simplify and streamline your code. \n",
    "\n",
    "    - *Hint: Apply it to initialize inventory, updating the inventory and printing the updated inventory.*\n",
    "    \n",
    "    - For example, in initializing the inventory, we could have:\n",
    "    \n",
    "        ```python\n",
    "        def initialize_inventory(products):\n",
    "            inventory = {product: int(input(f\"Enter the quantity of {product}s available: \")) for product in products}\n",
    "            return inventory\n",
    "\n",
    "        ```\n",
    "<br>\n",
    "    \n",
    "    \n",
    "2. Modify the function get_customer_orders so it prompts the user to enter the number of customer orders and gathers the product names using a loop and user input. Use comprehension.\n",
    "\n",
    "3. Add a new function to calculate the total price of the customer order. For each product in customer_orders, prompt the user to enter the price of that product. Use comprehension to calculate the total price. Note: assume that the user can only have 1 unit of each product.\n",
    "\n",
    "4. Modify the update_inventory function to remove the product from the inventory if its quantity becomes zero after fulfilling the customer orders. Use comprehension to filter out the products with a quantity of zero from the inventory.\n",
    "\n",
    "5. Print the total price of the customer order.\n",
    "\n",
    "Your code should produce output similar to the following:\n",
    "\n",
    "```python\n",
    "Enter the quantity of t-shirts available:  5\n",
    "Enter the quantity of mugs available:  4\n",
    "Enter the quantity of hats available:  3\n",
    "Enter the quantity of books available:  2\n",
    "Enter the quantity of keychains available:  1\n",
    "Enter the number of customer orders:  2\n",
    "Enter the name of a product that a customer wants to order:  hat\n",
    "Enter the name of a product that a customer wants to order:  keychain\n",
    "\n",
    "Order Statistics:\n",
    "Total Products Ordered: 2\n",
    "Percentage of Unique Products Ordered: 40.0\n",
    "\n",
    "Updated Inventory:\n",
    "t-shirt: 5\n",
    "mug: 4\n",
    "hat: 2\n",
    "book: 2\n",
    "Enter the price of keychain:  5\n",
    "Enter the price of hat:  10\n",
    "Total Price: 15.0\n",
    "\n",
    "```\n"
   ]
  },
  {
   "cell_type": "code",
   "execution_count": 113,
   "id": "0ff26b05-c8f9-4f8a-ba76-30060f098f9a",
   "metadata": {},
   "outputs": [
    {
     "data": {
      "text/plain": [
       "['t-shirt', 'mug', 'hat', 'book', 'keychain']"
      ]
     },
     "execution_count": 113,
     "metadata": {},
     "output_type": "execute_result"
    }
   ],
   "source": [
    "products = [\"t-shirt\", \"mug\", \"hat\", \"book\", \"keychain\"]\n",
    "\n",
    "products"
   ]
  },
  {
   "cell_type": "code",
   "execution_count": 114,
   "id": "b2855e59-03bf-4806-8b4e-381a69a75958",
   "metadata": {},
   "outputs": [
    {
     "name": "stdin",
     "output_type": "stream",
     "text": [
      "Enter the name of t-shirts available:  100\n",
      "Enter the name of mugs available:  100\n",
      "Enter the name of hats available:  100\n",
      "Enter the name of books available:  100\n",
      "Enter the name of keychains available:  100\n"
     ]
    },
    {
     "name": "stdout",
     "output_type": "stream",
     "text": [
      "{'t-shirt': 100, 'mug': 100, 'hat': 100, 'book': 100, 'keychain': 100}\n"
     ]
    }
   ],
   "source": [
    "def initialize_inventory(products):\n",
    "    inventory = {product: int(input(f\"Enter the name of {product}s available: \")) for product in products}\n",
    "    return inventory \n",
    "\n",
    "inventory = initialize_inventory(products)\n",
    "print(inventory)"
   ]
  },
  {
   "cell_type": "code",
   "execution_count": 137,
   "id": "5655aa95-d802-4ca0-afae-80540814fc0c",
   "metadata": {},
   "outputs": [
    {
     "name": "stdin",
     "output_type": "stream",
     "text": [
      "Insert how many products do you want to order:  2\n",
      "Enter the name of the product to order:  mug\n",
      "Enter the name of the product to order:  hat\n"
     ]
    }
   ],
   "source": [
    "def get_customer_orders():\n",
    "        order = int(input(\"Insert how many products do you want to order: \"))\n",
    "        customer_orders = {products: input(f\"Enter the name of the product to order: \") for products in range(order)}\n",
    "        \n",
    "        return customer_orders\n",
    "    \n",
    "\n",
    "customer_orders = get_customer_orders()   "
   ]
  },
  {
   "cell_type": "code",
   "execution_count": 139,
   "id": "d19e44c4-86e7-4bdb-bbf9-db6f2635ddc6",
   "metadata": {},
   "outputs": [
    {
     "name": "stdout",
     "output_type": "stream",
     "text": [
      "{0: 'mug', 1: 'hat'}\n"
     ]
    }
   ],
   "source": [
    "print(customer_orders)"
   ]
  },
  {
   "cell_type": "code",
   "execution_count": 163,
   "id": "15d94866-c018-4cb1-bc07-c2454e229d9f",
   "metadata": {},
   "outputs": [
    {
     "name": "stdin",
     "output_type": "stream",
     "text": [
      "Insert the price of mug:  3\n",
      "Insert the price of hat:  4\n"
     ]
    }
   ],
   "source": [
    "def calculate_total_price(customer_orders):\n",
    "    total_price = {product: int(input(f\"Insert the price of {customer_orders[product]}: \")) for product in customer_orders}\n",
    "    return total_price\n",
    "\n",
    "total_price = calculate_total_price(customer_orders)"
   ]
  },
  {
   "cell_type": "code",
   "execution_count": 164,
   "id": "8faca61d-fcca-488d-9c51-69b2b7911119",
   "metadata": {},
   "outputs": [],
   "source": [
    "def calculate_order_statistics(customer_orders, products):\n",
    "    sum_order_prod = sum(qty for _, qty in customer_orders)\n",
    "    sum_invent_prod = sum(inventory.values())\n",
    "    print(f\"Total of products ordered: {sum_order_prod}\")\n",
    "    percentage = (sum_order_prod / sum_invent_prod) * 100\n",
    "    print(f\"Percentage of products ordered: {percentage:.2f}%\")\n",
    "    return (sum_order_prod, percentage)"
   ]
  },
  {
   "cell_type": "code",
   "execution_count": 165,
   "id": "33a2ddff-716c-4d33-8839-7966ac6ecbcb",
   "metadata": {},
   "outputs": [],
   "source": [
    "\n",
    "def print_order_statistics(order_statistics):\n",
    "    sum_order_prod, percentage = order_statistics\n",
    "    print({sum_order_prod} , {percentage})"
   ]
  },
  {
   "cell_type": "code",
   "execution_count": 166,
   "id": "fd4c2551-d7a5-499b-8d00-d3a74e1bac23",
   "metadata": {},
   "outputs": [
    {
     "ename": "NameError",
     "evalue": "name 'order_statistics' is not defined",
     "output_type": "error",
     "traceback": [
      "\u001b[1;31m---------------------------------------------------------------------------\u001b[0m",
      "\u001b[1;31mNameError\u001b[0m                                 Traceback (most recent call last)",
      "Cell \u001b[1;32mIn[166], line 1\u001b[0m\n\u001b[1;32m----> 1\u001b[0m print_order_statistics(order_statistics)\n",
      "\u001b[1;31mNameError\u001b[0m: name 'order_statistics' is not defined"
     ]
    }
   ],
   "source": [
    "print_order_statistics(order_statistics)"
   ]
  },
  {
   "cell_type": "code",
   "execution_count": 167,
   "id": "f47f604c-f47f-42f0-8153-11cee3bd54ec",
   "metadata": {},
   "outputs": [
    {
     "ename": "TypeError",
     "evalue": "cannot unpack non-iterable int object",
     "output_type": "error",
     "traceback": [
      "\u001b[1;31m---------------------------------------------------------------------------\u001b[0m",
      "\u001b[1;31mTypeError\u001b[0m                                 Traceback (most recent call last)",
      "Cell \u001b[1;32mIn[167], line 10\u001b[0m\n\u001b[0;32m      6\u001b[0m                 inventory[product] \u001b[38;5;241m=\u001b[39m \u001b[38;5;241m0\u001b[39m\n\u001b[0;32m      8\u001b[0m     \u001b[38;5;28;01mreturn\u001b[39;00m inventory\n\u001b[1;32m---> 10\u001b[0m inventory \u001b[38;5;241m=\u001b[39m update_inventory(customer_orders, inventory)\n\u001b[0;32m     11\u001b[0m \u001b[38;5;28mprint\u001b[39m(inventory)\n",
      "Cell \u001b[1;32mIn[167], line 2\u001b[0m, in \u001b[0;36mupdate_inventory\u001b[1;34m(customer_orders, inventory)\u001b[0m\n\u001b[0;32m      1\u001b[0m \u001b[38;5;28;01mdef\u001b[39;00m \u001b[38;5;21mupdate_inventory\u001b[39m(customer_orders, inventory):\n\u001b[1;32m----> 2\u001b[0m     \u001b[38;5;28;01mfor\u001b[39;00m product, quantity_order \u001b[38;5;129;01min\u001b[39;00m customer_orders:\n\u001b[0;32m      3\u001b[0m         \u001b[38;5;28;01mif\u001b[39;00m product \u001b[38;5;129;01min\u001b[39;00m inventory:\n\u001b[0;32m      4\u001b[0m             inventory[product] \u001b[38;5;241m-\u001b[39m\u001b[38;5;241m=\u001b[39m quantity_order\n",
      "\u001b[1;31mTypeError\u001b[0m: cannot unpack non-iterable int object"
     ]
    }
   ],
   "source": [
    "def update_inventory(customer_orders, inventory):\n",
    "    for product, quantity_order in customer_orders:\n",
    "        if product in inventory:\n",
    "            inventory[product] -= quantity_order\n",
    "            if inventory[product] < 0:\n",
    "                inventory[product] = 0\n",
    "\n",
    "    return inventory\n",
    "\n",
    "inventory = update_inventory(customer_orders, inventory)\n",
    "print(inventory)"
   ]
  },
  {
   "cell_type": "code",
   "execution_count": 78,
   "id": "284cb9a2-0323-48e3-a3b7-cab4c1743d3a",
   "metadata": {},
   "outputs": [],
   "source": [
    "def print_updated_inventory(inventory):\n",
    "    print(\"Update_inventory: \")\n",
    "    for product, quantity in inventory.items():\n",
    "        print(f\"{product}: {quantity} \")\n",
    "    "
   ]
  },
  {
   "cell_type": "code",
   "execution_count": 79,
   "id": "1347a3b1-13c3-4350-b2e5-2e9f2545afe3",
   "metadata": {},
   "outputs": [
    {
     "name": "stdout",
     "output_type": "stream",
     "text": [
      "Update_inventory: \n",
      "t-shirt: 100 \n",
      "mug: 100 \n",
      "hat: 100 \n",
      "book: 100 \n",
      "keychain: 100 \n"
     ]
    }
   ],
   "source": [
    "print_updated_inventory(inventory)"
   ]
  },
  {
   "cell_type": "code",
   "execution_count": null,
   "id": "1c583ce7-3e23-43a6-9a4e-9127efc20d1f",
   "metadata": {},
   "outputs": [],
   "source": [
    " Print the total price of the customer order.\n",
    "\n",
    "Your code should produce output similar to the following:\n",
    "\n",
    "```python\n",
    "Enter the quantity of t-shirts available:  5\n",
    "Enter the quantity of mugs available:  4\n",
    "Enter the quantity of hats available:  3\n",
    "Enter the quantity of books available:  2\n",
    "Enter the quantity of keychains available:  1\n",
    "Enter the number of customer orders:  2\n",
    "Enter the name of a product that a customer wants to order:  hat\n",
    "Enter the name of a product that a customer wants to order:  keychain\n",
    "\n",
    "Order Statistics:\n",
    "Total Products Ordered: 2\n",
    "Percentage of Unique Products Ordered: 40.0\n",
    "\n",
    "Updated Inventory:\n",
    "t-shirt: 5\n",
    "mug: 4\n",
    "hat: 2\n",
    "book: 2\n",
    "Enter the price of keychain:  5\n",
    "Enter the price of hat:  10\n",
    "Total Price: 15.0"
   ]
  }
 ],
 "metadata": {
  "kernelspec": {
   "display_name": "Python 3 (ipykernel)",
   "language": "python",
   "name": "python3"
  },
  "language_info": {
   "codemirror_mode": {
    "name": "ipython",
    "version": 3
   },
   "file_extension": ".py",
   "mimetype": "text/x-python",
   "name": "python",
   "nbconvert_exporter": "python",
   "pygments_lexer": "ipython3",
   "version": "3.12.7"
  }
 },
 "nbformat": 4,
 "nbformat_minor": 5
}
