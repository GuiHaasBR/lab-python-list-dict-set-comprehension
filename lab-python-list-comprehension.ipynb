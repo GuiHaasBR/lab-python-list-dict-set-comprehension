{
 "cells": [
  {
   "cell_type": "markdown",
   "id": "25d7736c-ba17-4aff-b6bb-66eba20fbf4e",
   "metadata": {},
   "source": [
    "# Lab | List, Dict and Set Comprehension"
   ]
  },
  {
   "cell_type": "markdown",
   "id": "7dd3cbde-675a-4b81-92c3-f728846dbe06",
   "metadata": {},
   "source": [
    "## Exercise: Managing Customer Orders Optimized with Comprehension"
   ]
  },
  {
   "cell_type": "markdown",
   "id": "5d500160-2fb7-4777-b5e4-09d45ebaf328",
   "metadata": {},
   "source": [
    "In the previous exercise, you developed a program to manage customer orders and inventory. Now, let's take it a step further and incorporate comprehension into your code.\n",
    "\n",
    "Follow the steps below to complete the exercise:\n",
    "\n",
    "1. Review your code from the previous exercise and identify areas where you can apply comprehension to simplify and streamline your code. \n",
    "\n",
    "    - *Hint: Apply it to initialize inventory, updating the inventory and printing the updated inventory.*\n",
    "    \n",
    "    - For example, in initializing the inventory, we could have:\n",
    "    \n",
    "        ```python\n",
    "        def initialize_inventory(products):\n",
    "            inventory = {product: int(input(f\"Enter the quantity of {product}s available: \")) for product in products}\n",
    "            return inventory\n",
    "\n",
    "        ```\n",
    "<br>\n",
    "    \n",
    "    \n",
    "2. Modify the function get_customer_orders so it prompts the user to enter the number of customer orders and gathers the product names using a loop and user input. Use comprehension.\n",
    "\n",
    "3. Add a new function to calculate the total price of the customer order. For each product in customer_orders, prompt the user to enter the price of that product. Use comprehension to calculate the total price. Note: assume that the user can only have 1 unit of each product.\n",
    "\n",
    "4. Modify the update_inventory function to remove the product from the inventory if its quantity becomes zero after fulfilling the customer orders. Use comprehension to filter out the products with a quantity of zero from the inventory.\n",
    "\n",
    "5. Print the total price of the customer order.\n",
    "\n",
    "Your code should produce output similar to the following:\n",
    "\n",
    "```python\n",
    "Enter the quantity of t-shirts available:  5\n",
    "Enter the quantity of mugs available:  4\n",
    "Enter the quantity of hats available:  3\n",
    "Enter the quantity of books available:  2\n",
    "Enter the quantity of keychains available:  1\n",
    "Enter the number of customer orders:  2\n",
    "Enter the name of a product that a customer wants to order:  hat\n",
    "Enter the name of a product that a customer wants to order:  keychain\n",
    "\n",
    "Order Statistics:\n",
    "Total Products Ordered: 2\n",
    "Percentage of Unique Products Ordered: 40.0\n",
    "\n",
    "Updated Inventory:\n",
    "t-shirt: 5\n",
    "mug: 4\n",
    "hat: 2\n",
    "book: 2\n",
    "Enter the price of keychain:  5\n",
    "Enter the price of hat:  10\n",
    "Total Price: 15.0\n",
    "\n",
    "```\n"
   ]
  },
  {
   "cell_type": "code",
   "execution_count": 192,
   "id": "bb69cf14-cc35-42fe-89a7-3ca2b4ee5764",
   "metadata": {},
   "outputs": [
    {
     "data": {
      "text/plain": [
       "['t-shirt', 'mug', 'hat', 'book', 'keychain']"
      ]
     },
     "execution_count": 192,
     "metadata": {},
     "output_type": "execute_result"
    }
   ],
   "source": [
    "products = [\"t-shirt\", \"mug\", \"hat\", \"book\", \"keychain\"]\n",
    "\n",
    "products"
   ]
  },
  {
   "cell_type": "code",
   "execution_count": 193,
   "id": "b2855e59-03bf-4806-8b4e-381a69a75958",
   "metadata": {},
   "outputs": [
    {
     "name": "stdin",
     "output_type": "stream",
     "text": [
      "Enter the quantity of t-shirts available:  100\n",
      "Enter the quantity of mugs available:  100\n",
      "Enter the quantity of hats available:  100\n",
      "Enter the quantity of books available:  100\n",
      "Enter the quantity of keychains available:  100\n"
     ]
    },
    {
     "name": "stdout",
     "output_type": "stream",
     "text": [
      "{'t-shirt': 100, 'mug': 100, 'hat': 100, 'book': 100, 'keychain': 100}\n"
     ]
    }
   ],
   "source": [
    "def initialize_inventory(products):\n",
    "    inventory = {product: int(input(f\"Enter the quantity of {product}s available: \")) for product in products}\n",
    "    return inventory \n",
    "\n",
    "inventory = initialize_inventory(products)\n",
    "print(inventory)"
   ]
  },
  {
   "cell_type": "code",
   "execution_count": 195,
   "id": "5655aa95-d802-4ca0-afae-80540814fc0c",
   "metadata": {},
   "outputs": [
    {
     "name": "stdin",
     "output_type": "stream",
     "text": [
      "Insert how many products do you want to order:  2\n",
      "Enter the name of the product to order:  mug\n",
      "Enter the quantity:  20\n",
      "Enter the name of the product to order:  hat\n",
      "Enter the quantity:  60\n"
     ]
    }
   ],
   "source": [
    "def get_customer_orders():\n",
    "        order = int(input(\"Insert how many products do you want to order: \"))\n",
    "        customer_orders = {input(f\"Enter the name of the product to order: \"): int(input(\"Enter the quantity: \")) for i in range(order)}\n",
    "        \n",
    "        return customer_orders\n",
    "    \n",
    "\n",
    "customer_orders = get_customer_orders()   "
   ]
  },
  {
   "cell_type": "code",
   "execution_count": 196,
   "id": "153741c6-01cf-40f4-98f4-9a1e2c75ef4c",
   "metadata": {},
   "outputs": [
    {
     "data": {
      "text/plain": [
       "{'mug': 20, 'hat': 60}"
      ]
     },
     "execution_count": 196,
     "metadata": {},
     "output_type": "execute_result"
    }
   ],
   "source": [
    "customer_orders"
   ]
  },
  {
   "cell_type": "code",
   "execution_count": 197,
   "id": "15d94866-c018-4cb1-bc07-c2454e229d9f",
   "metadata": {},
   "outputs": [
    {
     "name": "stdin",
     "output_type": "stream",
     "text": [
      "Insert the price of mug:  15\n",
      "Insert the price of hat:  4\n"
     ]
    }
   ],
   "source": [
    "def calculate_total_price(customer_orders):\n",
    "    total_price = {product : int(input(f\"Insert the price of {product}: \"))*quantity for product,quantity in customer_orders.items()}\n",
    "    return total_price\n",
    "\n",
    "total_price = calculate_total_price(customer_orders)"
   ]
  },
  {
   "cell_type": "code",
   "execution_count": 198,
   "id": "2625b199-19e8-4e71-8980-239aef47df77",
   "metadata": {},
   "outputs": [
    {
     "data": {
      "text/plain": [
       "{'mug': 300, 'hat': 240}"
      ]
     },
     "execution_count": 198,
     "metadata": {},
     "output_type": "execute_result"
    }
   ],
   "source": [
    "total_price"
   ]
  },
  {
   "cell_type": "code",
   "execution_count": 199,
   "id": "6a164460-6c89-407e-a3cb-8f5ef4cdd8de",
   "metadata": {},
   "outputs": [
    {
     "name": "stdout",
     "output_type": "stream",
     "text": [
      "The total of price of the customer order is: 540\n"
     ]
    }
   ],
   "source": [
    "def total_price_customer_order(total_price):\n",
    "    print(f\"The total of price of the customer order is: {sum(total_price.values())}\")\n",
    "\n",
    "total_price_customer_order(total_price)"
   ]
  },
  {
   "cell_type": "code",
   "execution_count": 200,
   "id": "8faca61d-fcca-488d-9c51-69b2b7911119",
   "metadata": {},
   "outputs": [],
   "source": [
    "def calculate_order_statistics(customer_orders, products):\n",
    "    sum_order_prod = sum(customer_orders.values())\n",
    "    sum_invent_prod = sum(inventory.values())\n",
    "    print(f\"Total of products ordered: {sum_order_prod}\")\n",
    "    percentage = (sum_order_prod / sum_invent_prod) * 100\n",
    "    print(f\"Percentage of products ordered: {percentage:.2f}%\")\n",
    "    \n",
    "    return (sum_order_prod, percentage)"
   ]
  },
  {
   "cell_type": "code",
   "execution_count": 205,
   "id": "33a2ddff-716c-4d33-8839-7966ac6ecbcb",
   "metadata": {},
   "outputs": [],
   "source": [
    "def print_order_statistics():\n",
    "    print(\"Order statistic: \")\n",
    "    print(f\"Total Products Ordered: {sum(customer_orders.values())}\")\n",
    "    print(f\"Percentage of Unique Products Ordered: {sum(customer_orders.values())/sum(inventory.values())*100}%\")\n"
   ]
  },
  {
   "cell_type": "code",
   "execution_count": 206,
   "id": "fd4c2551-d7a5-499b-8d00-d3a74e1bac23",
   "metadata": {},
   "outputs": [
    {
     "name": "stdout",
     "output_type": "stream",
     "text": [
      "Order statistic: \n",
      "Total Products Ordered: 80\n",
      "Percentage of Unique Products Ordered: 16.0%\n"
     ]
    }
   ],
   "source": [
    "print_order_statistics()"
   ]
  },
  {
   "cell_type": "code",
   "execution_count": 207,
   "id": "f47f604c-f47f-42f0-8153-11cee3bd54ec",
   "metadata": {},
   "outputs": [
    {
     "name": "stdout",
     "output_type": "stream",
     "text": [
      "{'t-shirt': 100, 'mug': 80, 'hat': 40, 'book': 100, 'keychain': 100}\n"
     ]
    }
   ],
   "source": [
    "#Modify the update_inventory function to remove the product from the inventory if its quantity becomes zero after fulfilling the customer orders.\n",
    "# Use comprehension to filter out the products with a quantity of zero from the inventory.\n",
    "\n",
    "def update_inventory(customer_orders, inventory):\n",
    "    for product, quantity_order in customer_orders.items():\n",
    "        if product in inventory:\n",
    "            inventory[product] -= quantity_order\n",
    "            if inventory[product] < 0:\n",
    "                inventory[product] = 0\n",
    "        \n",
    "    inventory = {product: quantity for product, quantity in inventory.items() if quantity > 0}\n",
    "    \n",
    "    return inventory\n",
    "\n",
    "inventory = update_inventory(customer_orders, inventory)\n",
    "print(inventory)"
   ]
  },
  {
   "cell_type": "code",
   "execution_count": 208,
   "id": "284cb9a2-0323-48e3-a3b7-cab4c1743d3a",
   "metadata": {},
   "outputs": [],
   "source": [
    "def print_updated_inventory(inventory):\n",
    "    print(\"Update_inventory: \")\n",
    "    for product, quantity in inventory.items():\n",
    "        print(f\"{product}: {quantity} \")\n",
    "    "
   ]
  },
  {
   "cell_type": "code",
   "execution_count": 209,
   "id": "1347a3b1-13c3-4350-b2e5-2e9f2545afe3",
   "metadata": {},
   "outputs": [
    {
     "name": "stdout",
     "output_type": "stream",
     "text": [
      "Update_inventory: \n",
      "t-shirt: 100 \n",
      "mug: 80 \n",
      "hat: 40 \n",
      "book: 100 \n",
      "keychain: 100 \n"
     ]
    }
   ],
   "source": [
    "print_updated_inventory(inventory)"
   ]
  }
 ],
 "metadata": {
  "kernelspec": {
   "display_name": "Python 3 (ipykernel)",
   "language": "python",
   "name": "python3"
  },
  "language_info": {
   "codemirror_mode": {
    "name": "ipython",
    "version": 3
   },
   "file_extension": ".py",
   "mimetype": "text/x-python",
   "name": "python",
   "nbconvert_exporter": "python",
   "pygments_lexer": "ipython3",
   "version": "3.12.7"
  }
 },
 "nbformat": 4,
 "nbformat_minor": 5
}
